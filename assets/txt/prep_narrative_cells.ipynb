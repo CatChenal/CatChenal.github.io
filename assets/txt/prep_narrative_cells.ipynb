{
 "cells": [
  {
   "cell_type": "markdown",
   "metadata": {},
   "source": [
    "## Convert all .md files in assets/txt/ to html using `narrative_template.html` & save into assets/frames/"
   ]
  },
  {
   "cell_type": "code",
   "execution_count": 4,
   "metadata": {},
   "outputs": [],
   "source": [
    "import os\n",
    "import sys\n",
    "# notebook is in a different location than the local module:\n",
    "py_module = os.path.abspath(os.path.join(os.path.curdir, '..', 'py'))\n",
    "sys.path.insert(0, py_module)\n",
    "\n",
    "import prep_md2html\n",
    "\n",
    "txt_dir = os.path.abspath(os.curdir)\n",
    "tpl_path = os.path.join(txt_dir, 'narrative_template.html')\n",
    "frame_dir = os.path.abspath(os.path.join(os.path.curdir, '..', 'frames'))"
   ]
  },
  {
   "cell_type": "code",
   "execution_count": 5,
   "metadata": {},
   "outputs": [],
   "source": [
    "prep_md2html.embed_narratives(txt_dir, tpl_path, frame_dir)"
   ]
  },
  {
   "cell_type": "markdown",
   "metadata": {},
   "source": [
    "&#x2B50;"
   ]
  }
 ],
 "metadata": {
  "kernelspec": {
   "display_name": "Python 3",
   "language": "python",
   "name": "python3"
  },
  "language_info": {
   "codemirror_mode": {
    "name": "ipython",
    "version": 3
   },
   "file_extension": ".py",
   "mimetype": "text/x-python",
   "name": "python",
   "nbconvert_exporter": "python",
   "pygments_lexer": "ipython3",
   "version": "3.6.6"
  }
 },
 "nbformat": 4,
 "nbformat_minor": 2
}
